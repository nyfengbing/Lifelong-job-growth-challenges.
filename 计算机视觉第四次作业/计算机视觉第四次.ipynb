{
 "cells": [
  {
   "cell_type": "code",
   "execution_count": 1,
   "id": "b90df16f-08a8-423e-a4fb-ee377e8c1c79",
   "metadata": {},
   "outputs": [],
   "source": [
    "import cv2\n",
    "import numpy as np"
   ]
  },
  {
   "cell_type": "code",
   "execution_count": 2,
   "id": "b5696129-23e1-4b17-a409-377cec3409b6",
   "metadata": {},
   "outputs": [],
   "source": [
    "class GetRoiMouse():\n",
    "\n",
    "    def __init__(self, img):\n",
    "        self.lsPointsChoose = []\n",
    "        self.tpPointsChoose = []\n",
    "        self.pointsCount = 0  # 顶点计数\n",
    "        self.pointsMax = 4  # 对应点的个数不少于4组\n",
    "        self.mouseWindowName = 'get four top'\n",
    "        self.img = img  # 输入的图像\n",
    "\n",
    "    def mouseclick(self):  # 显示一个窗口\n",
    "        cv2.namedWindow(self.mouseWindowName)\n",
    "        # opecv可以设置监听鼠标\n",
    "        # setMouseCallback(windowName,onMouse())\n",
    "        # 在onMouse中写点击鼠标时要进行的工作\n",
    "        cv2.setMouseCallback(self.mouseWindowName, self.on_mouse)\n",
    "\n",
    "        cv2.imshow(self.mouseWindowName, self.img)\n",
    "        cv2.waitKey(0)\n",
    "\t# 检测当前点个数，满足要求时关闭图像显示窗口\n",
    "    def checkPointsNum(self):\n",
    "        if len(self.lsPointsChoose) == 4:\n",
    "            print('I get 4 points!')\n",
    "            cv2.destroyAllWindows()\n",
    "\n",
    "    # OpenCV的鼠标响应函数，可以在内部定义鼠标的各种响应\n",
    "    def on_mouse(self, event, x, y, flags, param):\n",
    "        # 左键点击\n",
    "        if event == cv2.EVENT_LBUTTONDOWN:\n",
    "            print('left-mouse')\n",
    "            self.pointsCount += 1\n",
    "            print(self.pointsCount)\n",
    "            point1 = (x, y)\n",
    "            # 画出点击的位置\n",
    "            img1 = self.img.copy()\n",
    "            cv2.circle(img1, point1, 10, (0, 255, 0), 2)\n",
    "            self.lsPointsChoose.append([x, y])\n",
    "            self.tpPointsChoose.append((x, y))\n",
    "            # 将鼠标选的点用直线连起来\n",
    "            for i in range(len(self.tpPointsChoose) - 1):\n",
    "                cv2.line(img1, self.tpPointsChoose[i], self.tpPointsChoose[i + 1], (0, 0, 255), 2)\n",
    "            cv2.imshow(self.mouseWindowName, img1)\n",
    "            self.checkPointsNum()\n",
    "\n"
   ]
  },
  {
   "cell_type": "code",
   "execution_count": 9,
   "id": "7ece75be-2840-4479-ab56-2f7e4c0b02ad",
   "metadata": {},
   "outputs": [
    {
     "name": "stdout",
     "output_type": "stream",
     "text": [
      "left-mouse\n",
      "1\n",
      "left-mouse\n",
      "2\n",
      "left-mouse\n",
      "3\n",
      "left-mouse\n",
      "4\n",
      "I get 4 points!\n",
      "left-mouse\n",
      "1\n",
      "left-mouse\n",
      "2\n",
      "left-mouse\n",
      "3\n",
      "left-mouse\n",
      "4\n",
      "I get 4 points!\n",
      "[[ 1.39018491e+00 -1.01658771e+00  2.94696357e+02]\n",
      " [ 1.15842574e+00  1.53413902e+00 -3.92503245e+02]\n",
      " [ 9.69785265e-05  3.81757086e-04  1.00000000e+00]]\n"
     ]
    }
   ],
   "source": [
    "if __name__ == '__main__':\n",
    "\t# 读取待校正图像\n",
    "    img_src = cv2.imread('H/'+'L.jpg')\n",
    "    img_src = cv2.resize(img_src,(0,0),fx=0.1,fy=0.1)\n",
    "    # 调用上述类，获取待校正图像的像素点\n",
    "    mouse1 = GetRoiMouse(img_src)\n",
    "    mouse1.mouseclick()\n",
    "    # 将像素点的类型转换为浮点型数据\n",
    "    pts_src = np.float32(mouse1.lsPointsChoose)\n",
    "\t\n",
    "\t# 读取目标图像\n",
    "    img_dst = cv2.imread('H/'+'des.jpg')\n",
    "    img_dst = cv2.resize(img_dst,(0,0),fx=0.1,fy=0.1)\n",
    "    mouse2 = GetRoiMouse(img_dst)\n",
    "    mouse2.mouseclick()\n",
    "    # 获取对应点\n",
    "    pts_dst = np.float32(mouse2.lsPointsChoose)\n",
    "    \n",
    "\t# -----------------------计算矩阵h-----------------------------\n",
    "\t# 目标图像的尺寸\n",
    "    dw, dh = img_dst.shape[1], img_dst.shape[0]\n",
    "    # 通过findHomography计算变换矩阵h\n",
    "    h, status = cv2.findHomography(pts_src, pts_dst, cv2.RANSAC, 5)\n",
    "    #显示矩阵h\n",
    "    print(h)\n",
    "\n",
    "    # ----------------------图像校正------------------------------\n",
    "    # 将变换矩阵h带入仿射变换实现校正\n",
    "    img_out = cv2.warpPerspective(img_src, h, (dw, dh))\n",
    "\t# 显示结果对比图像，依次为待校正图像，目标图像，校正后图像\n",
    "    images = np.concatenate((img_src[0: dh, 0:dw, 0:3], img_dst, img_out), axis=1)\n",
    "    #保存结果对比图像\n",
    "    cv2.imwrite(\"H/\"+ 'Tresult.jpg',images)  \n",
    "    # 窗口显示\n",
    "    cv2.imshow('homography', images)\n",
    "    cv2.waitKey(0)\n",
    "    cv2.destroyAllWindows()"
   ]
  },
  {
   "cell_type": "code",
   "execution_count": null,
   "id": "0d197234-db96-47e9-8f6b-4dfab1e2a1fd",
   "metadata": {},
   "outputs": [],
   "source": []
  },
  {
   "cell_type": "code",
   "execution_count": null,
   "id": "8d68d9de-2b0c-422c-8106-7bca3f0cc2f3",
   "metadata": {},
   "outputs": [],
   "source": []
  }
 ],
 "metadata": {
  "kernelspec": {
   "display_name": "Python 3 (ipykernel)",
   "language": "python",
   "name": "python3"
  },
  "language_info": {
   "codemirror_mode": {
    "name": "ipython",
    "version": 3
   },
   "file_extension": ".py",
   "mimetype": "text/x-python",
   "name": "python",
   "nbconvert_exporter": "python",
   "pygments_lexer": "ipython3",
   "version": "3.12.0"
  }
 },
 "nbformat": 4,
 "nbformat_minor": 5
}
